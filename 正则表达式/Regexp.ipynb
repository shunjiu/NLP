{
 "cells": [
  {
   "cell_type": "code",
   "execution_count": 17,
   "metadata": {},
   "outputs": [
    {
     "name": "stdout",
     "output_type": "stream",
     "text": [
      "['还不是因为这里好，所以没有人', '。因为你不在，所以我不在']\n",
      "(0, 14)\n",
      "还不\n"
     ]
    }
   ],
   "source": [
    "# coding=utf-8\n",
    "import re\n",
    "\n",
    "key = r\"还不是因为这里好，所以没有人。因为你不在，所以我不在。\"\n",
    "p1 = r\".{,3}因为.+?所以.{,3}\"\n",
    "pattern1 = re.compile(p1)\n",
    "print(pattern1.findall(key))\n",
    "print(re.search(pattern1,key).span())\n",
    "print(key[0:2])"
   ]
  },
  {
   "cell_type": "code",
   "execution_count": 2,
   "metadata": {},
   "outputs": [
    {
     "name": "stdout",
     "output_type": "stream",
     "text": [
      "['因为']\n"
     ]
    }
   ],
   "source": [
    "import re\n",
    "key2 = r\"因为它不在,病因为吃多了，可卡因为毒品\"\n",
    "p2 = r\"^因为|(?<=!病)因为\"\n",
    "pattern2 = re.compile(p2)\n",
    "print(pattern2.findall(key2))"
   ]
  },
  {
   "cell_type": "code",
   "execution_count": 20,
   "metadata": {},
   "outputs": [
    {
     "name": "stdout",
     "output_type": "stream",
     "text": [
      "(0, 14)\n",
      "(15, 29)\n",
      "('里的水质好，所以', '很多。因为123，所以456')\n"
     ]
    }
   ],
   "source": [
    "import re\n",
    "\n",
    "tmp_span = (0,0)\n",
    "key3 = r'lalalalal'\n",
    "key = '因为这里的水质好，所以长寿的人很多。因为123，所以456.'\n",
    "res = re.search(pattern1,key)\n",
    "while res:\n",
    "    tmp_span = (tmp_span[1]+res.span()[0],tmp_span[1]+res.span()[1])\n",
    "    print(tmp_span)\n",
    "    res = re.search(pattern1,key[tmp_span[1]:])\n",
    "print((key[3:11],key[15:29]))"
   ]
  },
  {
   "cell_type": "code",
   "execution_count": 51,
   "metadata": {},
   "outputs": [
    {
     "name": "stdout",
     "output_type": "stream",
     "text": [
      "-------------------------------------------------------------------\n",
      "行号  前面3个字         *因为*        全部                    &所以&    后面3个字(标点符号算一个字)\n",
      "2     还不是            *因为*        这里好，                &所以&    没有人\n",
      "4                       *因为*        这里的水质好，          &所以&    长寿的\n",
      "10    就是              *因为*        这样，                  &所以&    大家都\n",
      "-------------------------------------------------------------------\n"
     ]
    }
   ],
   "source": [
    "import re\n",
    "\n",
    "of = open('2016211651.txt','w+')\n",
    "inf = open('corpus.txt','r')\n",
    "lin = 0\n",
    "# tmp_span = (0,0)\n",
    "of.write('-------------------------------------------------------------------\\n')\n",
    "title = '行号'+2*' '+'前面3个字'+9*' '+'*因为*'+ 8*' '+'全部'+20*' '+ '&所以&'+4*' '+'后面3个字(标点符号算一个字)\\n'\n",
    "of.write(title)\n",
    "#print(re.search(r'后',title).span())\n",
    "ind = [0,4,13,20,32,38]\n",
    "# str = '             *因为*               &所以&    \\n'\n",
    "\n",
    "p1 = r\"(^因为|(?<=[^病^可卡])因为).+?所以\"\n",
    "# p1 = r\"因为.+?所以\"\n",
    "for eachline in inf:\n",
    "    lin+=1\n",
    "    \n",
    "    res = re.search(p1,eachline)\n",
    "    if res:\n",
    "        of.write(str(lin))\n",
    "        str1 = (5-lin//10)*' '\n",
    "        if res.span()[0]<3:\n",
    "            str1 = str1 + eachline[:res.span()[0]] + (9-res.span()[0])*2*' ' + '*因为*' + 8*' '\n",
    "        else:\n",
    "            str1 = str1 + eachline[res.span()[0]-3:res.span()[0]] + 12*' ' + '*因为*' + 8*' '\n",
    "        str1 = str1 + eachline[res.span()[0]+2:res.span()[1]-2] + (12-(res.span()[1]-res.span()[0]-4))*2*' ' + '&所以&' + 4*' '\n",
    "        str1 = str1 + eachline[res.span()[1]:res.span()[1]+3] + '\\n'\n",
    "        of.write(str1)\n",
    "\n",
    "of.write('-------------------------------------------------------------------\\n')\n",
    "of.close()\n",
    "inf.close()\n",
    "!cat 2016211651.txt"
   ]
  },
  {
   "cell_type": "code",
   "execution_count": 4,
   "metadata": {},
   "outputs": [
    {
     "name": "stdout",
     "output_type": "stream",
     "text": [
      "-------------------------------------------------------------------\n",
      "行号  前面3个字         *因为*        全部                                        &所以&    后面3个字(标点符号算一个字)\n",
      "3                       *因为*        我和爱人的工资收入去年也比前年增加了一些，                      &所以&    生活水\n",
      "4                       *因为*        绝大部分家庭已经拥有了２台电视机，                              &所以&    只需花\n",
      "5     了。正            *因为*        草原如此美丽迷人，                                              &所以&    ，在草\n",
      "6     来的，            *因为*        这样，                                                          &所以&    他们惜\n",
      "7     葡国菜            *因为*        大家爱惜(因为葡国菜有着本地独有文化，                          &所以&    大家都\n",
      "8                       *因为*        澳门式葡国菜的价格较适中(因为材料来源内地)，味道也不错，      &所以&    澳门的\n",
      "9     一是              *因为*        农村运输量约占整个农业劳动量的６０％以上，                      &所以&    ，随着\n",
      "9     ；二是            *因为*        农用汽车的购车费用只有同吨位汽车的１／３到２／３，              &所以&    农民买\n",
      "12                      *因为*        钱就出自他们这些纳税人，                                        &所以&    应当让\n",
      "-------------------------------------------------------------------\n"
     ]
    }
   ],
   "source": [
    "import re\n",
    "\n",
    "of = open('2016211651.txt','w+')\n",
    "inf = open('corpus.txt','r')\n",
    "lin = 0\n",
    "\n",
    "of.write('-------------------------------------------------------------------\\n')\n",
    "title = '行号'+2*' '+'前面3个字'+9*' '+'*因为*'+ 8*' '+'全部'+40*' '+ '&所以&'+4*' '+'后面3个字(标点符号算一个字)\\n'\n",
    "of.write(title)\n",
    "\n",
    "\n",
    "p1 = r\"(^因为|(?<=[^病^可卡])因为).+?所以\"\n",
    "\n",
    "for eachline in inf:\n",
    "    lin+=1\n",
    "    tmp_span = (0,0)\n",
    "    res = re.search(p1,eachline)\n",
    "    while res:\n",
    "        tmp_span = (tmp_span[1]+res.span()[0],tmp_span[1]+res.span()[1])\n",
    "\n",
    "        of.write(str(lin))#行号\n",
    "        str1 = (5-lin//10)*' '\n",
    "        if tmp_span[0]<3:\n",
    "            str1 = str1 + eachline[:tmp_span[0]] + (9-tmp_span[0])*2*' ' + '*因为*' + 8*' '#前面三个字\n",
    "        else:\n",
    "            str1 = str1 + eachline[tmp_span[0]-3:tmp_span[0]] + 12*' ' + '*因为*' + 8*' '#前面三个字\n",
    "        str1 = str1 + eachline[tmp_span[0]+2:tmp_span[1]-2] + (32-(tmp_span[1]-tmp_span[0]-4))*2*' ' + '&所以&' + 4*' '\n",
    "        str1 = str1 + eachline[tmp_span[1]:tmp_span[1]+3] + '\\n'\n",
    "        of.write(str1)\n",
    "        \n",
    "        res = re.search(p1,eachline[tmp_span[1]:])\n",
    "\n",
    "of.write('-------------------------------------------------------------------\\n')\n",
    "of.close()\n",
    "inf.close()\n",
    "!cat 2016211651.txt"
   ]
  },
  {
   "cell_type": "code",
   "execution_count": 64,
   "metadata": {},
   "outputs": [
    {
     "name": "stdout",
     "output_type": "stream",
     "text": [
      "\n",
      "0\n",
      "2\n"
     ]
    }
   ],
   "source": [
    "p1 = r\"^因为.+?所以\"\n",
    "p2 = r\"(^因为|(?<=[^病^可卡])因为).+?所以\"\n",
    "key = r\"就是因为这样，所以大家都很小心\"\n",
    "tmp = re.search(p2,key).span()\n",
    "print(key[(tmp[0]<3 and 0 or tmp[0]-3):tmp[0]])\n",
    "print(0 if(tmp[0]<3)else tmp[0]-3)\n",
    "print(tmp[0])"
   ]
  },
  {
   "cell_type": "code",
   "execution_count": 48,
   "metadata": {},
   "outputs": [
    {
     "name": "stdout",
     "output_type": "stream",
     "text": [
      "可卡因为毒品，所以我们不能用 \n",
      "还不是因为这里好，所以没有人来到这里\n",
      "lhadwbakw\n",
      "因为这里的水质好，所以长寿的人很多。\n",
      "病因为吃多了，诊所以后不用去了\n",
      "6awdawfaw\n",
      "7awfasegrhdh\n",
      "8dsgsgdrhtfu\n",
      "9gesegsrhhrdhd\n",
      "就是因为这样，所以大家都很小心\n"
     ]
    }
   ],
   "source": [
    "!cat corpus.txt"
   ]
  },
  {
   "cell_type": "code",
   "execution_count": 2,
   "metadata": {},
   "outputs": [
    {
     "name": "stdout",
     "output_type": "stream",
     "text": [
      "-------------------------------------------------------------------\n",
      "行号  \t前面三个字　*因为*\t全部　　　　　　　　　　　　　　　　　　　　　　　　　　　　　　　&所以&  后面3个字(标点符号算一个字)\n",
      "3   \t　　　　　　*因为*\t我和爱人的工资收入去年也比前年增加了一些，　　　　　　　　　　　　&所以&  生活水　　　　　　　　　　　　\n",
      "4   \t　　　　　　*因为*\t绝大部分家庭已经拥有了２台电视机，　　　　　　　　　　　　　　　　&所以&  只需花　　　　　　　　　　　　\n",
      "5   \t了。正　　　*因为*\t草原如此美丽迷人，　　　　　　　　　　　　　　　　　　　　　　　　&所以&  ，在草　　　　　　　　　　　　\n",
      "6   \t来的，　　　*因为*\t这样，　　　　　　　　　　　　　　　　　　　　　　　　　　　　　　&所以&  他们惜　　　　　　　　　　　　\n",
      "7   \t葡国菜　　　*因为*\t大家爱惜(因为葡国菜有着本地独有文化，　　　　　　　　　　　　　　&所以&  大家都　　　　　　　　　　　　\n",
      "8   \t　　　　　　*因为*\t澳门式葡国菜的价格较适中(因为材料来源内地)，味道也不错，　　　　&所以&  澳门的　　　　　　　　　　　　\n",
      "9   \t一是　　　　*因为*\t农村运输量约占整个农业劳动量的６０％以上，　　　　　　　　　　　　&所以&  ，随着　　　　　　　　　　　　\n",
      "9   \t；二是　　　*因为*\t农用汽车的购车费用只有同吨位汽车的１／３到２／３，　　　　　　　　&所以&  农民买　　　　　　　　　　　　\n",
      "12  \t　　　　　　*因为*\t钱就出自他们这些纳税人，　　　　　　　　　　　　　　　　　　　　　&所以&  应当让　　　　　　　　　　　　\n",
      "-------------------------------------------------------------------\n"
     ]
    }
   ],
   "source": [
    "import re\n",
    "\n",
    "of = open('2016211651.txt','w+')\n",
    "inf = open('corpus.txt','r')\n",
    "lin = 0\n",
    "max_len = 0\n",
    "p1 = r\"(^因为|(?<=[^病])因为).+?所以\"\n",
    "\n",
    "for eachline in inf:\n",
    "    lin+=1\n",
    "    tmp_span = (0,0)\n",
    "    res = re.search(p1,eachline)\n",
    "    while res:\n",
    "        tmp_span = (tmp_span[1]+res.span()[0],tmp_span[1]+res.span()[1])\n",
    "        max_len = tmp_span[1]-tmp_span[0] if tmp_span[1]-tmp_span[0] > max_len else max_len\n",
    "        res = re.search(p1,eachline[tmp_span[1]:])\n",
    "\n",
    "lin = 0\n",
    "of.write('-------------------------------------------------------------------\\n')\n",
    "tplt = \"{0:<4}\\t{1:{4}<6}*因为*\\t{2:{4}<{5}}&所以&  {3:{4}<15}\\n\"\n",
    "of.write(tplt.format(\"行号\", \"前面三个字\", \"全部\", \"后面3个字(标点符号算一个字)\", chr(12288), max_len))\n",
    "\n",
    "inf.seek(0,0)\n",
    "for eachline in inf:\n",
    "    lin+=1\n",
    "    tmp_span = (0,0)\n",
    "    res = re.search(p1,eachline)\n",
    "    while res:\n",
    "        tmp_span = (tmp_span[1]+res.span()[0],tmp_span[1]+res.span()[1])\n",
    "        of.write(tplt.format(lin,eachline[0 if(tmp_span[0]<3) else tmp_span[0]-3:tmp_span[0]],eachline[tmp_span[0]+2:tmp_span[1]-2],eachline[tmp_span[1]:tmp_span[1]+3 if tmp_span[1]+3 < len(eachline) else len(eachline)-1],chr(12288),max_len))\n",
    "        res = re.search(p1,eachline[tmp_span[1]:])\n",
    "\n",
    "of.write('-------------------------------------------------------------------\\n')\n",
    "of.close()\n",
    "inf.close()\n",
    "!cat 2016211651.txt"
   ]
  },
  {
   "cell_type": "code",
   "execution_count": 25,
   "metadata": {},
   "outputs": [
    {
     "name": "stdout",
     "output_type": "stream",
     "text": [
      "3   \t　　　　　　\t*因为*\t我和爱人的工资收入去年也比前年增加了一些，　　　　　　　　　　　　　　　　　　\t&所以&  生活水　　　　　　　　　　　　\n",
      "4   \t　　　　　　\t*因为*\t绝大部分家庭已经拥有了２台电视机，　　　　　　　　　　　　　　　　　　　　　　\t&所以&  只需花　　　　　　　　　　　　\n",
      "5   \t了。正　　　\t*因为*\t草原如此美丽迷人，　　　　　　　　　　　　　　　　　　　　　　　　　　　　　　\t&所以&  ，在草　　　　　　　　　　　　\n",
      "6   \t来的，　　　\t*因为*\t这样，　　　　　　　　　　　　　　　　　　　　　　　　　　　　　　　　　　　　\t&所以&  他们惜　　　　　　　　　　　　\n",
      "7   \t爱惜(　　　\t*因为*\t葡国菜有着本地独有文化，　　　　　　　　　　　　　　　　　　　　　　　　　　　\t&所以&  大家都　　　　　　　　　　　　\n",
      "7   \t葡国菜　　　\t*因为*\t大家爱惜(因为葡国菜有着本地独有文化，所以大家都爱惜)，就这样世世代代传了下来，\t&所以&  现在澳　　　　　　　　　　　　\n",
      "8   \t　　　　　　\t*因为*\t澳门式葡国菜的价格较适中(因为材料来源内地)，味道也不错，　　　　　　　　　　\t&所以&  澳门的　　　　　　　　　　　　\n",
      "9   \t一是　　　　\t*因为*\t农村运输量约占整个农业劳动量的６０％以上，　　　　　　　　　　　　　　　　　　\t&所以&  ，随着　　　　　　　　　　　　\n",
      "9   \t；二是　　　\t*因为*\t农用汽车的购车费用只有同吨位汽车的１／３到２／３，　　　　　　　　　　　　　　\t&所以&  农民买　　　　　　　　　　　　\n",
      "12  \t　　　　　　\t*因为*\t钱就出自他们这些纳税人，　　　　　　　　　　　　　　　　　　　　　　　　　　　\t&所以&  应当让　　　　　　　　　　　　\n"
     ]
    }
   ],
   "source": [
    "import re\n",
    "\n",
    "of = open('2016211651.txt','w+')\n",
    "inf = open('corpus.txt','r')\n",
    "lin = 0\n",
    "max_len = 0\n",
    "p1 = r\"(^因为|(?<=[^病])因为).+?所以\"\n",
    "p2 = r\"[(].+?[)]\"\n",
    "\n",
    "for eachline in inf:\n",
    "    lin+=1\n",
    "    tmp_span = (0,0)\n",
    "    res = re.search(p1,eachline)\n",
    "    while res:\n",
    "        tmp_span = (tmp_span[1]+res.span()[0],tmp_span[1]+res.span()[1])\n",
    "        max_len = tmp_span[1]-tmp_span[0] if tmp_span[1]-tmp_span[0] > max_len else max_len\n",
    "        res = re.search(p1,eachline[tmp_span[1]:])\n",
    "max_len = max_len+6\n",
    "lin = 0\n",
    "# of.write('-------------------------------------------------------------------\\n')\n",
    "tplt = \"{0:<4}\\t{1:{4}<6}\\t*因为*\\t{2:{4}<{5}}\\t&所以&  {3:{4}<15}\\n\"\n",
    "# of.write(tplt.format(\"行号\", \"前面三个字\", \"全部\", \"后面3个字(标点符号算一个字)\", chr(12288), max_len))\n",
    "\n",
    "inf.seek(0,0)\n",
    "for eachline in inf:\n",
    "    lin+=1\n",
    "    tmp_span = (0,0)\n",
    "    res = re.search(p1,eachline)\n",
    "    res2 = re.search(p2,eachline)\n",
    "    res3 = None\n",
    "    if res2:\n",
    "        res3 = re.search(p1,eachline[res2.span()[0]:res2.span()[1]])\n",
    "        if res3:\n",
    "            of.write(tplt.format(lin,eachline[res2.span()[0]+res3.span()[0]-3:res2.span()[0]+res3.span()[0]],eachline[res2.span()[0]+res3.span()[0]+2:res2.span()[0]+res3.span()[1]-2],eachline[res2.span()[0]+res3.span()[1]:res2.span()[0]+res3.span()[1]+3],chr(12288),max_len))\n",
    "            eachline1 = eachline[:res2.span()[0]]+eachline[res2.span()[1]:]\n",
    "            res4 = re.search(p1,eachline1)\n",
    "            if res4:\n",
    "                len2 = res2.span()[1]-res.span()[0]-6\n",
    "                of.write(tplt.format(lin,eachline[0 if(res4.span()[0]<3) else res4.span()[0]-3:res4.span()[0]],eachline[res4.span()[0]+2:res4.span()[1]+len2-2],eachline[res4.span()[1]+len2:res4.span()[1]+len2+3 if res4.span()[1]+len2+3 < len(eachline) else len(eachline)-1],chr(12288),max_len))    \n",
    "    while res:\n",
    "        if res3:\n",
    "            break\n",
    "        tmp_span = (tmp_span[1]+res.span()[0],tmp_span[1]+res.span()[1])\n",
    "        of.write(tplt.format(lin,eachline[0 if(tmp_span[0]<3) else tmp_span[0]-3:tmp_span[0]],eachline[tmp_span[0]+2:tmp_span[1]-2],eachline[tmp_span[1]:tmp_span[1]+3 if tmp_span[1]+3 < len(eachline) else len(eachline)-1],chr(12288),max_len))\n",
    "        res = re.search(p1,eachline[tmp_span[1]:])\n",
    "\n",
    "# of.write('-------------------------------------------------------------------\\n')\n",
    "of.close()\n",
    "inf.close()\n",
    "!cat 2016211651.txt"
   ]
  }
 ],
 "metadata": {
  "kernelspec": {
   "display_name": "Python 3",
   "language": "python",
   "name": "python3"
  },
  "language_info": {
   "codemirror_mode": {
    "name": "ipython",
    "version": 3
   },
   "file_extension": ".py",
   "mimetype": "text/x-python",
   "name": "python",
   "nbconvert_exporter": "python",
   "pygments_lexer": "ipython3",
   "version": "3.7.2"
  }
 },
 "nbformat": 4,
 "nbformat_minor": 2
}
